{
  "nbformat": 4,
  "nbformat_minor": 0,
  "metadata": {
    "colab": {
      "provenance": []
    },
    "kernelspec": {
      "name": "python3",
      "display_name": "Python 3"
    },
    "language_info": {
      "name": "python"
    }
  },
  "cells": [
    {
      "cell_type": "code",
      "execution_count": 1,
      "metadata": {
        "colab": {
          "base_uri": "https://localhost:8080/"
        },
        "id": "Ukdf_DSZnCmd",
        "outputId": "49892d2e-fab4-4a54-8c2a-801c13223278"
      },
      "outputs": [
        {
          "output_type": "stream",
          "name": "stdout",
          "text": [
            "Array + 2 :  [3 4 5 6 7]\n",
            "Array * 3 :  [ 3  6  9 12 15]\n",
            "Array / 2 :  [0.5 1.  1.5 2.  2.5]\n"
          ]
        }
      ],
      "source": [
        "#Ques 1\n",
        "import numpy as np\n",
        "arr=np.array([1,2,3,4,5])\n",
        "\n",
        "print('Array + 2 : ',arr+2)\n",
        "print('Array * 3 : ',arr*3)\n",
        "print('Array / 2 : ',arr/2)"
      ]
    },
    {
      "cell_type": "code",
      "source": [
        "#Ques 2\n",
        "import numpy as np\n",
        "arr=np.array([1,2,3,6,4,5])\n",
        "\n",
        "rev=np.flip(arr)       # or arr[::-1]\n",
        "print('Reversed:',rev)\n",
        "\n",
        "\n",
        "x=np.array([1,2,3,4,5,1,2,1,1,1])\n",
        "y=np.array([1,1,1,2,3,4,2,4,3,3])\n",
        "\n",
        "max_x=np.bincount(x).argmax()\n",
        "max_y=np.bincount(y).argmax()\n",
        "\n",
        "indices_x=np.where(x==max_x)[0]\n",
        "indices_y=np.where(y==max_y)[0]\n",
        "print('In X:')\n",
        "print('Most Frequent: ',max_x)\n",
        "print('Indices: ',indices_x)\n",
        "print()\n",
        "print('In Y:')\n",
        "print('Most Frequent: ',max_y)\n",
        "print('Indices: ',indices_y)"
      ],
      "metadata": {
        "colab": {
          "base_uri": "https://localhost:8080/"
        },
        "id": "6FtNgRIrndoR",
        "outputId": "82732af7-e86e-48e8-e358-49a912afc3a3"
      },
      "execution_count": 11,
      "outputs": [
        {
          "output_type": "stream",
          "name": "stdout",
          "text": [
            "Reversed: [5 4 6 3 2 1]\n",
            "In X:\n",
            "Most Frequent:  1\n",
            "Indices:  [0 5 7 8 9]\n",
            "\n",
            "In Y:\n",
            "Most Frequent:  1\n",
            "Indices:  [0 1 2]\n"
          ]
        }
      ]
    },
    {
      "cell_type": "code",
      "source": [
        "#Ques 3\n",
        "import numpy as np\n",
        "arr=np.array([[10,20,30],\n",
        "              [40,50,60],\n",
        "              [70,80,90]])\n",
        "\n",
        "print(arr[0][1])\n",
        "print(arr[2][0])"
      ],
      "metadata": {
        "colab": {
          "base_uri": "https://localhost:8080/"
        },
        "id": "9DYeUqRurSLx",
        "outputId": "052829d0-5ecc-49f8-da7a-c79c0a6ede71"
      },
      "execution_count": 22,
      "outputs": [
        {
          "output_type": "stream",
          "name": "stdout",
          "text": [
            "20\n",
            "70\n"
          ]
        }
      ]
    },
    {
      "cell_type": "code",
      "source": [
        "#Ques 4\n",
        "import numpy as np\n",
        "hitesh=np.linspace(10,100,25)\n",
        "\n",
        "print('Array:',hitesh)\n",
        "\n",
        "#Array attributes\n",
        "print('Dimension: ',hitesh.ndim)\n",
        "print('Shape :',hitesh.shape)\n",
        "print('Number of elements:',hitesh.size)\n",
        "print('Data Type:',hitesh.dtype)\n",
        "print('Total bytes: ',hitesh.nbytes)\n",
        "\n",
        "\n",
        "#using reshape\n",
        "hitesh_t=hitesh.reshape(25,1)\n",
        "print('Using reshape:')\n",
        "print(hitesh_t)\n",
        "print()\n",
        "\n",
        "print('Using T:')\n",
        "t=hitesh.T\n",
        "print(t)\n",
        "print()\n",
        "\n",
        "print('T not applicable to 1D array')\n"
      ],
      "metadata": {
        "colab": {
          "base_uri": "https://localhost:8080/"
        },
        "id": "ZBrHMFHssari",
        "outputId": "19a14fe5-a4c8-420b-a0ab-02b3db367cfe"
      },
      "execution_count": 25,
      "outputs": [
        {
          "output_type": "stream",
          "name": "stdout",
          "text": [
            "Array: [ 10.    13.75  17.5   21.25  25.    28.75  32.5   36.25  40.    43.75\n",
            "  47.5   51.25  55.    58.75  62.5   66.25  70.    73.75  77.5   81.25\n",
            "  85.    88.75  92.5   96.25 100.  ]\n",
            "Dimension:  1\n",
            "Shape : (25,)\n",
            "Number of elements: 25\n",
            "Data Type: float64\n",
            "Total bytes:  200\n",
            "Using reshape:\n",
            "[[ 10.  ]\n",
            " [ 13.75]\n",
            " [ 17.5 ]\n",
            " [ 21.25]\n",
            " [ 25.  ]\n",
            " [ 28.75]\n",
            " [ 32.5 ]\n",
            " [ 36.25]\n",
            " [ 40.  ]\n",
            " [ 43.75]\n",
            " [ 47.5 ]\n",
            " [ 51.25]\n",
            " [ 55.  ]\n",
            " [ 58.75]\n",
            " [ 62.5 ]\n",
            " [ 66.25]\n",
            " [ 70.  ]\n",
            " [ 73.75]\n",
            " [ 77.5 ]\n",
            " [ 81.25]\n",
            " [ 85.  ]\n",
            " [ 88.75]\n",
            " [ 92.5 ]\n",
            " [ 96.25]\n",
            " [100.  ]]\n",
            "\n",
            "Using T:\n",
            "[ 10.    13.75  17.5   21.25  25.    28.75  32.5   36.25  40.    43.75\n",
            "  47.5   51.25  55.    58.75  62.5   66.25  70.    73.75  77.5   81.25\n",
            "  85.    88.75  92.5   96.25 100.  ]\n",
            "\n",
            "T not applicable to 1D array\n"
          ]
        }
      ]
    },
    {
      "cell_type": "code",
      "source": [
        "#Ques 5\n",
        "import numpy as np\n",
        "ucs420_hitesh=np.array([[10,20,30,40],[50,60,70,80],[90,15,20,35]])\n",
        "print(ucs420_hitesh)\n",
        "print('Mean : ',np.mean(ucs420_hitesh))\n",
        "print('Median : ',np.median(ucs420_hitesh))\n",
        "print('Max : ',np.max(ucs420_hitesh))\n",
        "print('Min : ',np.min(ucs420_hitesh))\n",
        "print('Unique elements: ',np.unique(ucs420_hitesh))\n",
        "print()\n",
        "\n",
        "#Reshape\n",
        "reshaped_ucs420_hitesh=ucs420_hitesh.reshape(4,3)\n",
        "resized_ucs420_hitesh=np.resize(ucs420_hitesh,(2,3))\n",
        "print('Reshaped:')\n",
        "print(reshaped_ucs420_hitesh)\n",
        "print()\n",
        "\n",
        "print('Resized:')\n",
        "print(resized_ucs420_hitesh)"
      ],
      "metadata": {
        "colab": {
          "base_uri": "https://localhost:8080/"
        },
        "id": "jB5JlS8_ufu_",
        "outputId": "b8718f52-45fc-40fe-d410-b7b63d052045"
      },
      "execution_count": 30,
      "outputs": [
        {
          "output_type": "stream",
          "name": "stdout",
          "text": [
            "[[10 20 30 40]\n",
            " [50 60 70 80]\n",
            " [90 15 20 35]]\n",
            "Mean :  43.333333333333336\n",
            "Median :  37.5\n",
            "Max :  90\n",
            "Min :  10\n",
            "Unique elements:  [10 15 20 30 35 40 50 60 70 80 90]\n",
            "\n",
            "Reshaped:\n",
            "[[10 20 30]\n",
            " [40 50 60]\n",
            " [70 80 90]\n",
            " [15 20 35]]\n",
            "\n",
            "Resized:\n",
            "[[10 20 30]\n",
            " [40 50 60]]\n"
          ]
        }
      ]
    }
  ]
}